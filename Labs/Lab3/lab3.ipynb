{
  "cells": [
    {
      "cell_type": "markdown",
      "metadata": {
        "id": "dLzi5klGaAn8"
      },
      "source": [
        "# Practical session 3 - Brownian motion, Fourier transform\n",
        "\n",
        "Students (pair):\n",
        "- [Student 1]([link](https://github.com/username1))\n",
        "- [Student 2]([link](https://github.com/username2))"
      ]
    },
    {
      "cell_type": "markdown",
      "metadata": {
        "id": "gdCwesjtaAn_"
      },
      "source": [
        "```\n",
        "conda create --name=lab3 --file=requirement.txt\n",
        "conda activate lab3\n",
        "# do not forget to deactivate the environment if needed\n",
        "# you can remove the environment once you are done\n",
        "conda env remove --name=lab3\n",
        "```"
      ]
    },
    {
      "cell_type": "markdown",
      "metadata": {
        "id": "TNEaxovNaAoA"
      },
      "source": []
    },
    {
      "cell_type": "code",
      "execution_count": null,
      "metadata": {
        "id": "kErW22dWaAoA"
      },
      "outputs": [],
      "source": [
        "%load_ext autoreload\n",
        "%autoreload 2"
      ]
    },
    {
      "cell_type": "markdown",
      "metadata": {
        "id": "0YJGng6caAoB"
      },
      "source": [
        "## <a name=\"ex1\">Exercise 1: Brownian motion</a>\n",
        "\n",
        "This first exercise consists in generating a Brownian motion on the closed unit ball $\\mathcal{B}(\\mathbf{0}, 1) = \\{ \\mathbf{x} \\mid \\Vert \\mathbf{x} \\Vert  \\leq 1\\}$, focusing first on the 2-D case. The Brownian motion is a random walk with independent, identically distributed Gaussian increments, appearing for instance in thermodynamics and statistical mechanics (to model the evolution of a large particle in a medium composed of a large number of small particles, ...). It is also connected to the diffusion process (Einstein).\n",
        "\n",
        "Let $N \\in \\mathbb{N}^*$, $\\delta > 0$, and $\\mathbf{x} = (x_1, x_2) \\in  \\mathcal{B}(\\mathbf{0}, 1)$. The first $N$ steps of a 2-D discrete-time Brownian motion $W$ can be generated as follows\n",
        "\n",
        "\\begin{align*}\n",
        "    W_0 &= \\mathbf{x}, \\\\\n",
        "    %\n",
        "    (\\forall n \\in \\{1, \\dotsc, N-1 \\}), \\quad W_n &= W_{n−1} + \\sqrt{\\delta} G_n, \\quad G_n \\sim \\mathcal{N}(\\mathbf{0}, \\mathbf{I}),\n",
        "\\end{align*}\n",
        "\n",
        "where $\\mathcal{N}(\\mathbf{0}, \\mathbf{I})$ is a Gaussian distribution with mean $\\mathbf{0}$ and identity covariance matrix.\n",
        "\n",
        "1. Define a random generator `rng`, set to a known state for reproducibility (see session 2)."
      ]
    },
    {
      "cell_type": "markdown",
      "metadata": {
        "id": "Mx9mn61naAoC"
      },
      "source": [
        "**Answer:**"
      ]
    },
    {
      "cell_type": "code",
      "execution_count": 87,
      "metadata": {
        "id": "XwTGaUCEaAoD"
      },
      "outputs": [],
      "source": [
        "# your code\n",
        "import random\n",
        "import numpy as np\n",
        "random.seed(2024)\n",
        "def rng():\n",
        "  return random.gauss(0,1),random.gauss(0,1)"
      ]
    },
    {
      "cell_type": "markdown",
      "metadata": {
        "id": "7szpFAxqaAoE"
      },
      "source": [
        "2. Implement a function `brownian_motion(niter, x, step, rng)` which\n",
        "\n",
        "    - simulates $W$ until it reaches the boundary of $\\mathcal{B}(\\mathbf{0}, 1)$, using a maximum of $N$ iterations (`niter`), a starting point $\\mathbf{x} \\in \\mathcal{B}(\\mathbf{0}, 1)$ (`x`) and step-size $\\delta$ (`step`);\n",
        "    - interpolates linearly between the two last positions to determine the points $W^*$ where the trajectory crosses the boundary (if applicable);\n",
        "    - returns both the whole random walk $W$ and, if appropriate, the point at the intersection between the last segment of the trajectory and $\\mathcal{B}(\\mathbf{0}, 1)$.\n",
        "\n",
        "> Hint:\n",
        "> - you can easily derive a closed form expression for $W^*$, observing that $\\Vert W^* \\Vert^2= 1$ and $W^* \\in [W_{n-1}, W_n]$.\n",
        "> - you can also take a look at [`np.roots`](https://numpy.org/doc/stable/reference/generated/numpy.roots.html?highlight=roots#numpy.roots) if needed.\n",
        "\n",
        "> Recall of the Linear Interpolation (LERP) for $n$-dimensional vectors:\n",
        "> - Clearly, $\\vec{D}=\\alpha \\vec{C}$ with $\\alpha \\in [0, 1]$ and hence $\\vec{P}-\\vec{B}= \\alpha (\\vec{A}-\\vec{B})$ which is equivalent to $\\vec{P}= (1-\\alpha) \\vec{B} + \\alpha \\vec{A}$.\n",
        "![alternatvie text](https://github.com/matthieuPaolo/python_sdia/blob/main/Labs/Lab3/img/for_Course.png?raw=1)"
      ]
    },
    {
      "cell_type": "markdown",
      "metadata": {
        "id": "h0ndAKj2aAoE"
      },
      "source": [
        "**Answer:**"
      ]
    },
    {
      "cell_type": "code",
      "execution_count": 286,
      "metadata": {
        "id": "1T5mdLheaAoF"
      },
      "outputs": [],
      "source": [
        "# your code\n",
        "import numpy as np\n",
        "\n",
        "def brownian_motion(niter, x, step, rng):\n",
        "  \"\"\"Simulates Brownian motion until it reaches the boundary of (0,1).\n",
        "\n",
        "  Args:\n",
        "    niter: The maximum number of iterations.\n",
        "    x: The starting point.\n",
        "    step: The step size.\n",
        "    rng: A random number generator.\n",
        "\n",
        "  Returns:\n",
        "    A tuple of two NumPy arrays:\n",
        "      * The whole random walk.\n",
        "      * The point at the intersection between the last segment of the trajectory\n",
        "        and (0,1), if applicable.\n",
        "  \"\"\"\n",
        "  def norm(L):\n",
        "    return (((L[0]**2)+(L[1]**2)))\n",
        "  w = [[x[0][0],x[0][1]]]\n",
        "\n",
        "  for i in range(1, niter + 1):\n",
        "    a,b=rng()\n",
        "\n",
        "    W0_new=w[i-1][0]+(step**(1/2))*a\n",
        "    W1_new=w[i-1][1]+(step**(1/2))*b\n",
        "    w.append([W0_new,W1_new])\n",
        "    if norm(w[i]) > 1:\n",
        "      A_B=[w[i-1][0]-w[i][0],w[i-1][1]-w[i][1]]\n",
        "      X2=norm(A_B)\n",
        "      X1= 2*(w[i][0]*w[i-1][0]+w[i][0]*w[i-1][0]) - 2*norm(w[i])\n",
        "      X0= norm(w[i]) -1\n",
        "      polynome=np.poly1d([X2,X1,X0])\n",
        "      alpha= np.roots(polynome)\n",
        "      alpha=np.real(alpha[1])\n",
        "      P=[(1-alpha)*w[i][0]+alpha*w[i-1][0],(1-alpha)*w[i][1]+alpha*w[i-1][1]]\n",
        "      print(P)\n",
        "      return w,norm(P)#, w_star\n",
        "    else:\n",
        "      w_star = None\n",
        "\n"
      ]
    },
    {
      "cell_type": "code",
      "source": [
        "w,alpha=brownian_motion(100,np.array([[0,0]]),0.05,rng)\n",
        "#print(alpha,w)"
      ],
      "metadata": {
        "id": "b_2rN4uPhJ0O"
      },
      "execution_count": 428,
      "outputs": []
    },
    {
      "cell_type": "code",
      "source": [
        "import matplotlib.pyplot as plt\n",
        "import numpy as np\n",
        "w,alpha=brownian_motion(100,np.array([[0,0]]),0.05,rng)\n",
        "# Your list of vectors (replace this with your actual list)\n",
        "vectors = w\n",
        "# Convert the list of vectors to a NumPy array for easier manipulation\n",
        "vectors = np.array(vectors)\n",
        "\n",
        "# Initialize the starting position as a float64 array\n",
        "current_position = np.array([0.0, 0.0], dtype=np.float64)\n",
        "\n",
        "# Create lists to store the x and y coordinates of the trajectory\n",
        "trajectory_x = [current_position[0]]\n",
        "trajectory_y = [current_position[1]]\n",
        "\n",
        "# Create a list to store directions (arrows) at each point\n",
        "arrow_directions = []\n",
        "\n",
        "# Iterate through the vectors to calculate the trajectory and directions\n",
        "for vector in vectors:\n",
        "    current_position = vector\n",
        "    trajectory_x.append(current_position[0])\n",
        "    trajectory_y.append(current_position[1])\n",
        "    arrow_directions.append(vector)\n",
        "\n",
        "# Create a scatter plot for the points\n",
        "plt.scatter(trajectory_x, trajectory_y, label='Trajectory', marker='o')\n",
        "\n",
        "# Add lines connecting the points on the trajectory\n",
        "plt.plot(trajectory_x, trajectory_y, linestyle='-', color='blue', linewidth=0.5, alpha=0.7)\n",
        "\n",
        "# Add arrows to indicate the direction of the trajectory\n",
        "for i in range(len(arrow_directions)):\n",
        "    plt.arrow(\n",
        "        trajectory_x[i], trajectory_y[i],\n",
        "        arrow_directions[i][0], arrow_directions[i][1],\n",
        "        head_width=0.01, head_length=0.01, fc='red', ec='red'\n",
        "    )\n",
        "\n",
        "# Add a circle centered at (0, 1)\n",
        "circle = plt.Circle((0, 1), 1, color='green', fill=False, label='Circle (0, 1)')\n",
        "plt.gca().add_patch(circle)\n",
        "\n",
        "# Add labels to the axes\n",
        "plt.xlabel('X-axis')\n",
        "plt.ylabel('Y-axis')\n",
        "\n",
        "# Set axis limits based on the trajectory\n",
        "plt.xlim(np.min(trajectory_x) - 1, np.max(trajectory_x) + 1)\n",
        "plt.ylim(np.min(trajectory_y) - 1, np.max(trajectory_y) + 1)\n",
        "\n",
        "# Show the plot with a legend\n",
        "plt.legend()\n",
        "\n",
        "# Show the plot\n",
        "plt.show()\n",
        "\n"
      ],
      "metadata": {
        "colab": {
          "base_uri": "https://localhost:8080/",
          "height": 449
        },
        "id": "ySbW18_KuJXn",
        "outputId": "6894c5d6-97cf-4e94-c2cc-cd81191217d1"
      },
      "execution_count": 440,
      "outputs": [
        {
          "output_type": "display_data",
          "data": {
            "text/plain": [
              "<Figure size 640x480 with 1 Axes>"
            ],
            "image/png": "[encoded data removed]"
          },
          "metadata": {}
        }
      ]
    },
    {
      "cell_type": "code",
      "source": [
        "np.roots([1,0,1])"
      ],
      "metadata": {
        "colab": {
          "base_uri": "https://localhost:8080/"
        },
        "id": "lzK9tJpBn1ZM",
        "outputId": "44e2f717-fa3d-4f10-fd92-4c2758cd8902"
      },
      "execution_count": 92,
      "outputs": [
        {
          "output_type": "execute_result",
          "data": {
            "text/plain": [
              "array([-0.+1.j,  0.-1.j])"
            ]
          },
          "metadata": {},
          "execution_count": 92
        }
      ]
    },
    {
      "cell_type": "markdown",
      "metadata": {
        "id": "Ycrwp4X1aAoF"
      },
      "source": [
        "3. Diplay the trajectory of a Brownian motion starting from $\\mathbf{x} = (0.2, 0.4)$, using $\\delta = 10^{-2}$, $N = 1000$. Display the unit circle on the same figure, and highlight the intersection with the boundary of the domain (whenever it exists).\n",
        "\n",
        "> Hint: to draw the unit disk, you can use for instance:\n",
        "> ```python\n",
        "> circle = plt.Circle((0,0), 1)\n",
        "> fig, ax = plt.subplots()\n",
        "> plt.xlim(-1.25,1.25)\n",
        "> plt.ylim(-1.25,1.25)\n",
        "> plt.grid(linestyle = \"--\", zorder = 1)\n",
        "> ax.set_aspect(1)\n",
        "> ax.add_artist(circle)\n",
        "> ```"
      ]
    },
    {
      "cell_type": "markdown",
      "metadata": {
        "id": "eCUyvvZ3aAoG"
      },
      "source": [
        "**Answer:**"
      ]
    },
    {
      "cell_type": "code",
      "execution_count": null,
      "metadata": {
        "id": "kMo_gnbcaAoH"
      },
      "outputs": [],
      "source": [
        "# your code"
      ]
    },
    {
      "cell_type": "markdown",
      "metadata": {
        "id": "OQ3cRBUNaAoI"
      },
      "source": [
        "4. Represent, on the same figure, 4 other trajectories of $W$ with the same parameters."
      ]
    },
    {
      "cell_type": "markdown",
      "metadata": {
        "id": "Xpnl4m3TaAoI"
      },
      "source": [
        "**Answer:**"
      ]
    },
    {
      "cell_type": "code",
      "execution_count": null,
      "metadata": {
        "id": "rlVdfi-SaAoJ"
      },
      "outputs": [],
      "source": [
        "# your code"
      ]
    },
    {
      "cell_type": "markdown",
      "metadata": {
        "id": "ia-Huh1TaAoJ"
      },
      "source": [
        "5. [Bonus] Generalize the procedure to a $M$-dimensional Brownian motion, $M > 2$."
      ]
    },
    {
      "cell_type": "markdown",
      "metadata": {
        "id": "AmBRKTGDaAoK"
      },
      "source": [
        "**Answer:**"
      ]
    },
    {
      "cell_type": "code",
      "execution_count": null,
      "metadata": {
        "id": "OMI7xdUlaAoL"
      },
      "outputs": [],
      "source": [
        "# your code"
      ]
    },
    {
      "cell_type": "markdown",
      "metadata": {
        "id": "k6tZHA4aaAoL"
      },
      "source": [
        "---\n",
        "## <a name=\"ex2\">Exercise 2: 2D Fourier transform, ideal low-pass filter and linear convolution</a>\n",
        "\n",
        "In this exercise, we explore the use of the 2-dimensional Fourier transform to filter an image, and convolve it with a blurring kernel.\n",
        "\n",
        "1\\. Load and display one of the images contained in the `img/` folder. The image will be denoted by $\\mathbf{X} \\in \\mathbb{R}^{M_1 \\times N_1}$ in the rest of this exercise."
      ]
    },
    {
      "cell_type": "markdown",
      "metadata": {
        "id": "J8MxxrhaaAoM"
      },
      "source": [
        "**Answer:**"
      ]
    },
    {
      "cell_type": "code",
      "execution_count": null,
      "metadata": {
        "id": "2bFWTprXaAoM"
      },
      "outputs": [],
      "source": [
        "# your code"
      ]
    },
    {
      "cell_type": "markdown",
      "metadata": {
        "id": "FvSlb5MdaAoN"
      },
      "source": [
        "2\\. Let $\\mathcal{F}$ denote the 2D discrete Fourier transform. Compute $|\\mathcal{F}(\\mathbf{X})|^2$, the spectrum of the image $\\mathbf{X} \\in \\mathbb{R}^{M_1 \\times N_1}$ (i.e., the term-wise squared absolute value of its Fourier transform) loaded in 1. Display the result in logarithmic scale.\n",
        "\n",
        "a) In this representation, where is the pixel of the spectrum associated with the null frequency located?\n",
        "    \n",
        "b) Take a look at the documentation of `np.fft.fftshift`. Use it to ensure that the null frequency is located at the center of the image."
      ]
    },
    {
      "cell_type": "markdown",
      "metadata": {
        "id": "qvOkrqLHaAoN"
      },
      "source": [
        "**Answer:**"
      ]
    },
    {
      "cell_type": "code",
      "execution_count": null,
      "metadata": {
        "id": "03ygkwcoaAoO"
      },
      "outputs": [],
      "source": [
        "# your code"
      ]
    },
    {
      "cell_type": "markdown",
      "metadata": {
        "id": "xw-TNc4JaAoO"
      },
      "source": [
        "3\\.\n",
        "    a) Create a function `ideal_lowpass_filter` to filter $\\mathbf{X}$ by an ideal low-pass filter. The filter preserves Fourier coefficients associated to frequencies below a cutoff specified in each direction ($\\mathbf{f}_c = (f_{c,y}, f_{c,x})$), and sets others to zero. For simplicity, $f_{c,y}$ and $f_{c,x}$ can be expressed as a number of samples to be kept along each dimension (e.g., $\\mathbf{f}_c = (50,50)$).\n",
        "\n",
        "b) Display the filtered image for 2 different values of $\\mathbf{f}_c$. What do you observe as the cutoff frequencies increase?\n",
        "    \n",
        "> Warning: beware the type of the array after `np.fft.fft2`, do not hesitate to specify the type if you make copies from this array\n",
        "> ```python\n",
        "> a = np.zeros((2,2), dtype=np.complex)\n",
        "> ...\n",
        "> ```"
      ]
    },
    {
      "cell_type": "markdown",
      "metadata": {
        "id": "aelIxL-uaAoP"
      },
      "source": [
        "**Answer:**"
      ]
    },
    {
      "cell_type": "code",
      "execution_count": null,
      "metadata": {
        "id": "TlHY8vvUaAoP"
      },
      "outputs": [],
      "source": [
        "# your code"
      ]
    },
    {
      "cell_type": "markdown",
      "metadata": {
        "id": "4CPPHsYGaAoQ"
      },
      "source": [
        "4\\. Let $\\mathbf{H} \\in \\mathbb{R}^{M_2\\times N_2}$ be a 2-D Gaussian kernel, obtained as the outer product of two 1-D Gaussian windows $\\mathbf{w}_y \\in \\mathbb{R}^{M_2}$ and $\\mathbf{w}_x \\in \\mathbb{R}^{N_2}$, of standard deviation $\\sigma_y = 10$ and $\\sigma_x = 10$, respectively:\n",
        "\n",
        "\\begin{equation}\n",
        "    \\mathbf{H} = \\mathbf{w}_y \\mathbf{w}_x^T.\n",
        "\\end{equation}\n",
        "\n",
        "Let $M = M_1+M_2-1$ and $N =  N_1+N_2-1$. From the discrete convolution theorem, the linear convolution between $\\mathbf{H}$ and $\\mathbf{X}$ can be computed as follows\n",
        "\n",
        "\\begin{equation}\n",
        "    \\mathbf{X} \\star \\mathbf{H} = \\mathcal{F}^{-1} \\Big( \\mathcal{F}\\big(P_1(\\mathbf{X})\\big) \\odot \\mathcal{F}\\big(P_2(\\mathbf{H})\\big) \\Big) \\in \\mathbb{R}^{M\\times N},\n",
        "\\end{equation}\n",
        "\n",
        "where $P_i: \\mathbb{R}^{M_i \\times N_i} \\rightarrow \\mathbb{R}^{M \\times N}$, $i \\in \\{1, 2\\}$, are 0-padding operators, $\\odot$ is the Hadamard (= term-wise) product, $\\mathcal{F}^{-1}$ is the 2D discrete inverse Fourier transform.\n",
        "\n",
        "Compute and display $\\mathbf{X} \\star \\mathbf{H}$, for $M_2 = N_2 = 10$. What do you observe?\n",
        "\n",
        "> Hint:\n",
        "> - the usual 0-padding procedure in image space consists in appending trailing zeros. For instance (in 1D), 0-padding a vector $\\mathbf{x} \\in \\mathbb{R}^N_1$ to the size $N>N_1$ corresponds to creating the vector\n",
        "\\begin{bmatrix}\n",
        "\\mathbf{x} \\\\\n",
        "\\mathbf{0}_{N-N_1}\n",
        "\\end{bmatrix}\n",
        "> - since the input images are real, $\\mathcal{F}(\\mathbf{x})$ and $\\mathcal{F}(\\mathbf{h})$ are Hermitian symmetric. In this case, a more efficient version of `np.fft.fft2` can be used, computing only quarter of the Fourier coefficients (half of the Fourier coefficients in each direction): [`np.fft.rfft2`](https://numpy.org/doc/stable/reference/generated/numpy.fft.rfft2.html?highlight=rfft#numpy.fft.rfft2). Its inverse, [`np.fft.irfft2`](https://numpy.org/doc/stable/reference/generated/numpy.fft.irfft2.html#numpy.fft.irfft2), also ensures that the output is real;\n",
        "> - the 2D Gaussian window can be generated as the outer product of two 1D Gaussian windows (one window for each dimension);\n",
        "> - you can take a look at [scipy.signal.windows.gaussian](https://docs.scipy.org/doc/scipy/reference/generated/scipy.signal.windows.gaussian.html#scipy.signal.windows.gaussian) and [np.newaxis](https://numpy.org/doc/stable/reference/constants.html?highlight=newaxis#numpy.newaxis) (or `np.reshape` or built-in `np.outer`)."
      ]
    },
    {
      "cell_type": "markdown",
      "metadata": {
        "id": "5WRYuGjYaAoQ"
      },
      "source": [
        "**Answer:**"
      ]
    },
    {
      "cell_type": "code",
      "execution_count": null,
      "metadata": {
        "id": "rktM5YjqaAoQ"
      },
      "outputs": [],
      "source": [
        "# your code"
      ]
    }
  ],
  "metadata": {
    "kernelspec": {
      "display_name": "Python 3.8.10 64-bit",
      "language": "python",
      "name": "python3"
    },
    "language_info": {
      "codemirror_mode": {
        "name": "ipython",
        "version": 3
      },
      "file_extension": ".py",
      "mimetype": "text/x-python",
      "name": "python",
      "nbconvert_exporter": "python",
      "pygments_lexer": "ipython3",
      "version": "3.8.10"
    },
    "vscode": {
      "interpreter": {
        "hash": "916dbcbb3f70747c44a77c7bcd40155683ae19c65e1c03b4aa3499c5328201f1"
      }
    },
    "colab": {
      "provenance": []
    }
  },
  "nbformat": 4,
  "nbformat_minor": 0
}